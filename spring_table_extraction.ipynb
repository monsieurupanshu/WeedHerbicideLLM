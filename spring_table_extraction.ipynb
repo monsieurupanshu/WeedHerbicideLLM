{
  "nbformat": 4,
  "nbformat_minor": 0,
  "metadata": {
    "colab": {
      "provenance": []
    },
    "kernelspec": {
      "name": "python3",
      "display_name": "Python 3"
    },
    "language_info": {
      "name": "python"
    }
  },
  "cells": [
    {
      "cell_type": "code",
      "execution_count": null,
      "metadata": {
        "id": "YKFU58PIUGhz"
      },
      "outputs": [],
      "source": [
        "import pandas as pd\n",
        "import re"
      ]
    },
    {
      "cell_type": "code",
      "source": [
        "from google.colab import drive\n",
        "drive.mount('/content/drive')"
      ],
      "metadata": {
        "colab": {
          "base_uri": "https://localhost:8080/"
        },
        "id": "8bFpofPkVBRt",
        "outputId": "ab9bc557-1110-4524-aae0-17f6962e84e5"
      },
      "execution_count": null,
      "outputs": [
        {
          "output_type": "stream",
          "name": "stdout",
          "text": [
            "Mounted at /content/drive\n"
          ]
        }
      ]
    },
    {
      "cell_type": "code",
      "source": [
        "file_path = '/content/drive/MyDrive/DATA/Spring_Table.xls'\n",
        "df = pd.read_excel(file_path)"
      ],
      "metadata": {
        "id": "-ncRJk0iVVIJ"
      },
      "execution_count": null,
      "outputs": []
    },
    {
      "cell_type": "code",
      "source": [
        "df.columns = df.iloc[0]\n",
        "df = df.drop(0)"
      ],
      "metadata": {
        "id": "FTKO92VJVaOG"
      },
      "execution_count": null,
      "outputs": []
    },
    {
      "cell_type": "code",
      "source": [
        "print(df.columns)"
      ],
      "metadata": {
        "colab": {
          "base_uri": "https://localhost:8080/"
        },
        "id": "WG3zlCGpVctS",
        "outputId": "da2d633b-7c3b-4f5e-ffb6-d72e88351d87"
      },
      "execution_count": null,
      "outputs": [
        {
          "output_type": "stream",
          "name": "stdout",
          "text": [
            "Index(['HERBICIDE/WEED', 'Giant Foxtail ', 'Lambsquarters', 'Common Ragweed',\n",
            "       'Giant Ragweed', 'Annual Smartweeds', 'Common Chickweed',\n",
            "       'Mustards, Shepherd's-purse', 'Winter Wheat, Rye Cover',\n",
            "       'Orchardgrass/Fescue Sod', 'Canada Thistle', 'Red Clover', 'Alfalfa',\n",
            "       'Hairy Vetch', 'Marestail (group 9-R)1', 'Prickly Lettuce',\n",
            "       'Annual Bluegrass', 'Deadnettle, henbit', 'Carolina Foxtail',\n",
            "       'Dandelion', 'Cressleaf groundsel'],\n",
            "      dtype='object', name=0)\n"
          ]
        }
      ]
    },
    {
      "cell_type": "code",
      "source": [
        "df.reset_index(drop=True, inplace=True)"
      ],
      "metadata": {
        "id": "gjzKkOTQVfE_"
      },
      "execution_count": null,
      "outputs": []
    },
    {
      "cell_type": "code",
      "source": [
        "df.rename(columns={df.columns[0]: 'HERBICIDE/WEED'}, inplace=True)"
      ],
      "metadata": {
        "id": "W50STk3PVjKB"
      },
      "execution_count": null,
      "outputs": []
    },
    {
      "cell_type": "code",
      "source": [
        "def rating_to_text(rating):\n",
        "    if isinstance(rating, str):\n",
        "        if rating == '-':\n",
        "            return \"less than 60% weed control, not recommended\"\n",
        "        else:\n",
        "            return rating\n",
        "    elif pd.isna(rating):\n",
        "        return \"less than 60% weed control, not recommended\"\n",
        "    rating = int(rating)\n",
        "    if rating == 6:\n",
        "        return \"60% to 70% weed control\"\n",
        "    elif rating == 7:\n",
        "        return \"70% to 80% weed control\"\n",
        "    elif rating == 8:\n",
        "        return \"80% to 90% weed control\"\n",
        "    elif rating == 9:\n",
        "        return \"90% to 100% weed control\"\n",
        "    return str(rating)\n"
      ],
      "metadata": {
        "id": "fLqt3OlXVkFx"
      },
      "execution_count": null,
      "outputs": []
    },
    {
      "cell_type": "code",
      "source": [
        "def row_to_detailed_text(row):\n",
        "    herbicide = str(row['HERBICIDE/WEED']).strip()\n",
        "    weed_effectiveness = []\n",
        "    for weed in df.columns[1:]:\n",
        "        effectiveness = row[weed]\n",
        "        description = rating_to_text(effectiveness)\n",
        "        weed_effectiveness.append(f\"{weed.strip()}: {description}\")\n",
        "    detailed_text = (\n",
        "        f\"Herbicide {herbicide} is widely used for its effectiveness against several weeds. \"\n",
        "        f\"It shows the following effectiveness: {', '.join(weed_effectiveness)}. \"\n",
        "        \"This herbicide is particularly noted for its high effectiveness against certain weeds.\"\n",
        "    )\n",
        "    return detailed_text"
      ],
      "metadata": {
        "id": "07O7bwaBVmhN"
      },
      "execution_count": null,
      "outputs": []
    },
    {
      "cell_type": "code",
      "source": [
        "text_data = df.apply(row_to_detailed_text, axis=1)"
      ],
      "metadata": {
        "id": "cxY9KJaTVpXv"
      },
      "execution_count": null,
      "outputs": []
    },
    {
      "cell_type": "code",
      "source": [
        "output_path = '/content/drive/MyDrive/DATA/Enhanced_Spring_Herbicide_Effectiveness.txt'\n",
        "with open(output_path, 'w') as f:\n",
        "    for line in text_data:\n",
        "        f.write(line + '\\n')"
      ],
      "metadata": {
        "id": "oGIo5z-OVrfp"
      },
      "execution_count": null,
      "outputs": []
    },
    {
      "cell_type": "code",
      "source": [
        "output_path"
      ],
      "metadata": {
        "id": "GGxfvcEjVvcM",
        "outputId": "8432ab2b-b1e0-4123-f260-76d9e2fdab5e",
        "colab": {
          "base_uri": "https://localhost:8080/",
          "height": 35
        }
      },
      "execution_count": null,
      "outputs": [
        {
          "output_type": "execute_result",
          "data": {
            "text/plain": [
              "'/content/drive/MyDrive/DATA/Enhanced_Spring_Herbicide_Effectiveness.txt'"
            ],
            "application/vnd.google.colaboratory.intrinsic+json": {
              "type": "string"
            }
          },
          "metadata": {},
          "execution_count": 12
        }
      ]
    }
  ]
}