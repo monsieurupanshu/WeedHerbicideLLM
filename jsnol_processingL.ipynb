{
  "nbformat": 4,
  "nbformat_minor": 0,
  "metadata": {
    "colab": {
      "provenance": []
    },
    "kernelspec": {
      "name": "python3",
      "display_name": "Python 3"
    },
    "language_info": {
      "name": "python"
    }
  },
  "cells": [
    {
      "cell_type": "code",
      "execution_count": null,
      "metadata": {
        "id": "3XqU6c5BsEpL"
      },
      "outputs": [],
      "source": [
        "import json\n",
        "import random"
      ]
    },
    {
      "cell_type": "code",
      "source": [
        "from google.colab import drive\n",
        "drive.mount('/content/drive')"
      ],
      "metadata": {
        "colab": {
          "base_uri": "https://localhost:8080/"
        },
        "id": "jP8gA5uCsI8a",
        "outputId": "3b695940-2a2e-4137-b9d1-82fca3d45ca6"
      },
      "execution_count": null,
      "outputs": [
        {
          "output_type": "stream",
          "name": "stdout",
          "text": [
            "Drive already mounted at /content/drive; to attempt to forcibly remount, call drive.mount(\"/content/drive\", force_remount=True).\n"
          ]
        }
      ]
    },
    {
      "cell_type": "code",
      "source": [
        "json_files = {\n",
        "    \"spring\": \"/content/drive/MyDrive/Data/Structured_Spring.json\",\n",
        "    \"fall\": \"/content/drive/MyDrive/Data/Structured_Fall.json\"\n",
        "}"
      ],
      "metadata": {
        "id": "lhXph_nXxKZl"
      },
      "execution_count": null,
      "outputs": []
    },
    {
      "cell_type": "code",
      "source": [
        "templates = [\n",
        "    \"How effective is {herbicide} against {weed} in {season}?\",\n",
        "    \"What is the effectiveness of {herbicide} on {weed} during {season}?\",\n",
        "    \"Can you provide the control percentage of {herbicide} for {weed} in {season}?\",\n",
        "    \"How well does {herbicide} control {weed} in {season}?\",\n",
        "    \"Which herbicides do you recommend for {season} burndown of {weed} with a weed control rating of {rating}?\",\n",
        "    \"List all the herbicides for {weed} which are 90%-100% effective in {season}?\"\n",
        "]"
      ],
      "metadata": {
        "id": "6QvrLZ1pxdHn"
      },
      "execution_count": null,
      "outputs": []
    },
    {
      "cell_type": "code",
      "source": [
        "def convert_json_to_jsonl(json_file_path, season, output_file_path):\n",
        "    with open(json_file_path, 'r') as f:\n",
        "        data = json.load(f)\n",
        "\n",
        "    weed_herbicides = {}\n",
        "\n",
        "    for entry in data:\n",
        "        herbicide = entry['herbicide']\n",
        "        for weed, effectiveness in entry['effectiveness'].items():\n",
        "            if weed not in weed_herbicides:\n",
        "                weed_herbicides[weed] = {}\n",
        "            if effectiveness not in weed_herbicides[weed]:\n",
        "                weed_herbicides[weed][effectiveness] = []\n",
        "            weed_herbicides[weed][effectiveness].append(herbicide)\n",
        "\n",
        "    with open(output_file_path, 'w') as f_out:\n",
        "        for weed, effectiveness_data in weed_herbicides.items():\n",
        "            for effectiveness, herbicides in effectiveness_data.items():\n",
        "                herbicide_list = ', '.join(herbicides)\n",
        "                template = random.choice(templates)\n",
        "                if effectiveness == '90-100% weed control':\n",
        "                    json_obj = {\n",
        "                        \"prompt\": template.format(herbicide=herbicide_list, weed=weed, season=season, rating=effectiveness),\n",
        "                        \"completion\": herbicide_list\n",
        "                    }\n",
        "                else:\n",
        "                    json_obj = {\n",
        "                        \"prompt\": template.format(herbicide=herbicide, weed=weed, season=season, rating=effectiveness),\n",
        "                        \"completion\": effectiveness\n",
        "                    }\n",
        "                f_out.write(json.dumps(json_obj) + '\\n')"
      ],
      "metadata": {
        "id": "_zXlAHoDxmjb"
      },
      "execution_count": null,
      "outputs": []
    },
    {
      "cell_type": "code",
      "source": [
        "for season, json_file_path in json_files.items():\n",
        "    output_file_path = f\"/content/drive/MyDrive/Data/{season}_output.jsonl\"\n",
        "    convert_json_to_jsonl(json_file_path, season, output_file_path)"
      ],
      "metadata": {
        "id": "vOKk-o6_xyeQ"
      },
      "execution_count": null,
      "outputs": []
    },
    {
      "cell_type": "code",
      "source": [
        "from google.colab import files\n",
        "\n",
        "files.download('/content/drive/MyDrive/Data/spring_output.jsonl')\n",
        "files.download('/content/drive/MyDrive/Data/fall_output.jsonl')"
      ],
      "metadata": {
        "colab": {
          "base_uri": "https://localhost:8080/",
          "height": 17
        },
        "id": "aeD7uxmItqPl",
        "outputId": "f9324a67-e52d-45fc-a64d-7dc7a0a44599"
      },
      "execution_count": null,
      "outputs": [
        {
          "output_type": "display_data",
          "data": {
            "text/plain": [
              "<IPython.core.display.Javascript object>"
            ],
            "application/javascript": [
              "\n",
              "    async function download(id, filename, size) {\n",
              "      if (!google.colab.kernel.accessAllowed) {\n",
              "        return;\n",
              "      }\n",
              "      const div = document.createElement('div');\n",
              "      const label = document.createElement('label');\n",
              "      label.textContent = `Downloading \"${filename}\": `;\n",
              "      div.appendChild(label);\n",
              "      const progress = document.createElement('progress');\n",
              "      progress.max = size;\n",
              "      div.appendChild(progress);\n",
              "      document.body.appendChild(div);\n",
              "\n",
              "      const buffers = [];\n",
              "      let downloaded = 0;\n",
              "\n",
              "      const channel = await google.colab.kernel.comms.open(id);\n",
              "      // Send a message to notify the kernel that we're ready.\n",
              "      channel.send({})\n",
              "\n",
              "      for await (const message of channel.messages) {\n",
              "        // Send a message to notify the kernel that we're ready.\n",
              "        channel.send({})\n",
              "        if (message.buffers) {\n",
              "          for (const buffer of message.buffers) {\n",
              "            buffers.push(buffer);\n",
              "            downloaded += buffer.byteLength;\n",
              "            progress.value = downloaded;\n",
              "          }\n",
              "        }\n",
              "      }\n",
              "      const blob = new Blob(buffers, {type: 'application/binary'});\n",
              "      const a = document.createElement('a');\n",
              "      a.href = window.URL.createObjectURL(blob);\n",
              "      a.download = filename;\n",
              "      div.appendChild(a);\n",
              "      a.click();\n",
              "      div.remove();\n",
              "    }\n",
              "  "
            ]
          },
          "metadata": {}
        },
        {
          "output_type": "display_data",
          "data": {
            "text/plain": [
              "<IPython.core.display.Javascript object>"
            ],
            "application/javascript": [
              "download(\"download_862814f4-912f-4d35-961e-4e943a6d087c\", \"spring_output.jsonl\", 28612)"
            ]
          },
          "metadata": {}
        },
        {
          "output_type": "display_data",
          "data": {
            "text/plain": [
              "<IPython.core.display.Javascript object>"
            ],
            "application/javascript": [
              "\n",
              "    async function download(id, filename, size) {\n",
              "      if (!google.colab.kernel.accessAllowed) {\n",
              "        return;\n",
              "      }\n",
              "      const div = document.createElement('div');\n",
              "      const label = document.createElement('label');\n",
              "      label.textContent = `Downloading \"${filename}\": `;\n",
              "      div.appendChild(label);\n",
              "      const progress = document.createElement('progress');\n",
              "      progress.max = size;\n",
              "      div.appendChild(progress);\n",
              "      document.body.appendChild(div);\n",
              "\n",
              "      const buffers = [];\n",
              "      let downloaded = 0;\n",
              "\n",
              "      const channel = await google.colab.kernel.comms.open(id);\n",
              "      // Send a message to notify the kernel that we're ready.\n",
              "      channel.send({})\n",
              "\n",
              "      for await (const message of channel.messages) {\n",
              "        // Send a message to notify the kernel that we're ready.\n",
              "        channel.send({})\n",
              "        if (message.buffers) {\n",
              "          for (const buffer of message.buffers) {\n",
              "            buffers.push(buffer);\n",
              "            downloaded += buffer.byteLength;\n",
              "            progress.value = downloaded;\n",
              "          }\n",
              "        }\n",
              "      }\n",
              "      const blob = new Blob(buffers, {type: 'application/binary'});\n",
              "      const a = document.createElement('a');\n",
              "      a.href = window.URL.createObjectURL(blob);\n",
              "      a.download = filename;\n",
              "      div.appendChild(a);\n",
              "      a.click();\n",
              "      div.remove();\n",
              "    }\n",
              "  "
            ]
          },
          "metadata": {}
        },
        {
          "output_type": "display_data",
          "data": {
            "text/plain": [
              "<IPython.core.display.Javascript object>"
            ],
            "application/javascript": [
              "download(\"download_e3ca0312-7744-4927-bba7-1d56cdc60e05\", \"fall_output.jsonl\", 11571)"
            ]
          },
          "metadata": {}
        }
      ]
    }
  ]
}