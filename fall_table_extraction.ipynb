{
  "nbformat": 4,
  "nbformat_minor": 0,
  "metadata": {
    "colab": {
      "provenance": []
    },
    "kernelspec": {
      "name": "python3",
      "display_name": "Python 3"
    },
    "language_info": {
      "name": "python"
    }
  },
  "cells": [
    {
      "cell_type": "code",
      "execution_count": null,
      "metadata": {
        "id": "3qxmVj0QuVWS"
      },
      "outputs": [],
      "source": [
        "import pandas as pd\n",
        "import re"
      ]
    },
    {
      "cell_type": "code",
      "source": [
        "from google.colab import drive\n",
        "drive.mount('/content/drive')"
      ],
      "metadata": {
        "colab": {
          "base_uri": "https://localhost:8080/"
        },
        "id": "ADMqRuS9ujec",
        "outputId": "3591650a-8ba9-4262-e886-ed9055479f2c"
      },
      "execution_count": null,
      "outputs": [
        {
          "output_type": "stream",
          "name": "stdout",
          "text": [
            "Drive already mounted at /content/drive; to attempt to forcibly remount, call drive.mount(\"/content/drive\", force_remount=True).\n"
          ]
        }
      ]
    },
    {
      "cell_type": "code",
      "source": [
        "file_path = '/content/drive/MyDrive/DATA/Fall_Table.xlsx'\n",
        "df = pd.read_excel(file_path)"
      ],
      "metadata": {
        "id": "_dQZwsynvAAJ"
      },
      "execution_count": null,
      "outputs": []
    },
    {
      "cell_type": "code",
      "source": [
        "df.columns = df.iloc[0]\n",
        "df = df.drop(0)"
      ],
      "metadata": {
        "id": "J9H8wKhAwmmj"
      },
      "execution_count": null,
      "outputs": []
    },
    {
      "cell_type": "code",
      "source": [
        "print(df.columns)"
      ],
      "metadata": {
        "colab": {
          "base_uri": "https://localhost:8080/"
        },
        "id": "drj1A2Am9-mL",
        "outputId": "fd9cf7e0-248d-4d2b-c962-d3a2686c8855"
      },
      "execution_count": null,
      "outputs": [
        {
          "output_type": "stream",
          "name": "stdout",
          "text": [
            "Index([                         nan,              'Giant Foxtail',\n",
            "                    'Lambsquarters',             'Common Ragweed',\n",
            "                    'Giant Ragweed',          'Annual Smartweeds',\n",
            "                 'Common chickweed', 'Mustards, Shepherd's-purse',\n",
            "          'Winter Wheat, Rye Cover',    'Orchardgrass/Fescue Sod',\n",
            "                   'Canada Thistle',                 'Red Clover',\n",
            "                          'Alfalfa',                'Hairy Vetch',\n",
            "           'Marestail (group 9-R)1',            'Prickly Lettuce',\n",
            "                 'Annual Bluegrass',         'Deadnettle, henbit',\n",
            "                 'Carolina Foxtail',                  'Dandelion',\n",
            "              'Cressleaf groundsel'],\n",
            "      dtype='object', name=0)\n"
          ]
        }
      ]
    },
    {
      "cell_type": "code",
      "source": [
        "df.reset_index(drop=True, inplace=True)"
      ],
      "metadata": {
        "id": "TGksl7I2wqbr"
      },
      "execution_count": null,
      "outputs": []
    },
    {
      "cell_type": "code",
      "source": [
        "df.rename(columns={df.columns[0]: 'HERBICIDE/WEED'}, inplace=True)"
      ],
      "metadata": {
        "id": "U9L7q1a3-MdM"
      },
      "execution_count": null,
      "outputs": []
    },
    {
      "cell_type": "code",
      "source": [
        "def rating_to_text(rating):\n",
        "    if isinstance(rating, str):\n",
        "        if rating == '-':\n",
        "            return \"less than 60% weed control, not recommended\"\n",
        "        else:\n",
        "            return rating\n",
        "    elif pd.isna(rating):\n",
        "        return \"less than 60% weed control, not recommended\"\n",
        "    rating = int(rating)\n",
        "    if rating == 6:\n",
        "        return \"60% to 70% weed control\"\n",
        "    elif rating == 7:\n",
        "        return \"70% to 80% weed control\"\n",
        "    elif rating == 8:\n",
        "        return \"80% to 90% weed control\"\n",
        "    elif rating == 9:\n",
        "        return \"90% to 100% weed control\"\n",
        "    return str(rating)\n"
      ],
      "metadata": {
        "id": "OZzU8SFt3oC_"
      },
      "execution_count": null,
      "outputs": []
    },
    {
      "cell_type": "code",
      "source": [
        "def row_to_detailed_text(row):\n",
        "    herbicide = str(row['HERBICIDE/WEED']).strip()\n",
        "    weed_effectiveness = []\n",
        "    for weed in df.columns[1:]:\n",
        "        effectiveness = row[weed]\n",
        "        description = rating_to_text(effectiveness)\n",
        "        weed_effectiveness.append(f\"{weed.strip()}: {description}\")\n",
        "    detailed_text = (\n",
        "        f\"Herbicide {herbicide} is widely used for its effectiveness against several weeds. \"\n",
        "        f\"It shows the following effectiveness: {', '.join(weed_effectiveness)}. \"\n",
        "        \"This herbicide is particularly noted for its high effectiveness against certain weeds.\"\n",
        "    )\n",
        "    return detailed_text"
      ],
      "metadata": {
        "id": "07jRArfQwuD8"
      },
      "execution_count": null,
      "outputs": []
    },
    {
      "cell_type": "code",
      "source": [
        "text_data = df.apply(row_to_detailed_text, axis=1)"
      ],
      "metadata": {
        "id": "_EtiiW2Wwy2F"
      },
      "execution_count": null,
      "outputs": []
    },
    {
      "cell_type": "code",
      "source": [
        "output_path = '/content/drive/MyDrive/DATA/Enhanced_Fall_Herbicide_Effectiveness.txt'\n",
        "with open(output_path, 'w') as f:\n",
        "    for line in text_data:\n",
        "        f.write(line + '\\n')"
      ],
      "metadata": {
        "id": "PrwqEd8pxj72"
      },
      "execution_count": null,
      "outputs": []
    },
    {
      "cell_type": "code",
      "source": [
        "output_path"
      ],
      "metadata": {
        "colab": {
          "base_uri": "https://localhost:8080/",
          "height": 35
        },
        "id": "ur4aQwDhx2DN",
        "outputId": "b8e6e9af-f106-44e5-a798-b38fe1b6652d"
      },
      "execution_count": null,
      "outputs": [
        {
          "output_type": "execute_result",
          "data": {
            "text/plain": [
              "'/content/drive/MyDrive/DATA/Enhanced_Fall_Herbicide_Effectiveness.txt'"
            ],
            "application/vnd.google.colaboratory.intrinsic+json": {
              "type": "string"
            }
          },
          "metadata": {},
          "execution_count": 67
        }
      ]
    }
  ]
}